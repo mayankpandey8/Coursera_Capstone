{
 "cells": [
  {
   "cell_type": "markdown",
   "metadata": {},
   "source": [
    "# A Complete guide to Indian food in the US "
   ]
  },
  {
   "cell_type": "markdown",
   "metadata": {},
   "source": [
    "## Introduction/Business Problem"
   ]
  },
  {
   "cell_type": "markdown",
   "metadata": {},
   "source": [
    "Let's say that you are an Indian student living in the United States for your studies, or you are someone from India working in the US, OR you are someone who *loves* Indian food (that spicy spicy food :D) and want to know which of the most popular states of the US has the best Indian eateries. This report can help anyone from a tourist to a student who is craving for some spicy Indian thali, and will also provide with geographical data on the density and the areas they can visit to satisfy their craving."
   ]
  },
  {
   "cell_type": "markdown",
   "metadata": {},
   "source": [
    "## Data"
   ]
  },
  {
   "cell_type": "markdown",
   "metadata": {},
   "source": [
    "The biggest challenge to any Data science problem is to get the relevant and accurate data for the business problem to justify the claims being made at the conclusion. I will use the Foursquare API to collect data for Indian restaurants in the 5 major US cities that are\n",
    "New York, NY\n",
    "San Fransisco, CA\n",
    "Jersey City, NJ\n",
    "Boston, MA    and\n",
    "Chicago, IL\n",
    "\n",
    "These are one of the most populated and famous cities in the US and these should have a large number of Indian restaurants and can serve as a solid entrypoint to this Business problem described earlier. Out of these 5 cities, this model will help choose one, by giving them relevant data about the most dense and the most popular city to visit for the same."
   ]
  },
  {
   "cell_type": "code",
   "execution_count": null,
   "metadata": {},
   "outputs": [],
   "source": []
  }
 ],
 "metadata": {
  "kernelspec": {
   "display_name": "Python",
   "language": "python",
   "name": "conda-env-python-py"
  },
  "language_info": {
   "codemirror_mode": {
    "name": "ipython",
    "version": 3
   },
   "file_extension": ".py",
   "mimetype": "text/x-python",
   "name": "python",
   "nbconvert_exporter": "python",
   "pygments_lexer": "ipython3",
   "version": "3.6.11"
  }
 },
 "nbformat": 4,
 "nbformat_minor": 4
}
